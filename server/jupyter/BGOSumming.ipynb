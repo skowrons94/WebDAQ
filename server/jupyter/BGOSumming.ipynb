{
 "cells": [
  {
   "cell_type": "code",
   "execution_count": null,
   "metadata": {},
   "outputs": [],
   "source": [
    "import os\n",
    "import shlex\n",
    "import subprocess\n",
    "\n",
    "N_RUNS = [550]"
   ]
  },
  {
   "cell_type": "code",
   "execution_count": null,
   "metadata": {},
   "outputs": [],
   "source": [
    "for N_RUN in N_RUNS:\n",
    "\n",
    "    # Input and output paths\n",
    "    INPUT_PATH = \"../data/root/\"\n",
    "    OUTPUT_PATH = \"../data/processed/\"\n",
    "    \n",
    "    # Check if output path exists\n",
    "    if not os.path.exists(OUTPUT_PATH):\n",
    "        os.makedirs(OUTPUT_PATH)\n",
    "\n",
    "    # Create command\n",
    "    cmd  = \"BGOsumming \" \n",
    "    cmd += \"--input-root-file {}/run{}.root \".format(INPUT_PATH,N_RUN)\n",
    "    cmd += \"--coincidence-time-window 100 \"\n",
    "    #cmd += \"--energy-calibration-file Calibration/Ecal_200.txt \"\n",
    "    cmd += \"--no-energy-calibration \"\n",
    "    cmd += \"--no-charge \"\n",
    "    #cmd += \"--no-pulser \"\n",
    "    cmd += \"--charge-channel 7 \"\n",
    "    cmd += \"--pulser-channel 0 \"\n",
    "    cmd += \"--unusual-jumps-warn-only \"\n",
    "    cmd += \"--write-coincidence-event-tree \"\n",
    "    cmd += \"--include-raw-in-coincidence-event-tree \"\n",
    "    cmd += \"--output-file {}/run{}.root\".format(OUTPUT_PATH,N_RUN)\n",
    "\n",
    "    # Run command\n",
    "    _ = subprocess.check_output(shlex.split(cmd))"
   ]
  }
 ],
 "metadata": {
  "kernelspec": {
   "display_name": "analysis",
   "language": "python",
   "name": "python3"
  },
  "language_info": {
   "name": "python",
   "version": "3.10.15"
  }
 },
 "nbformat": 4,
 "nbformat_minor": 2
}
