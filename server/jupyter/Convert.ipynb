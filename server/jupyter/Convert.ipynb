{
 "cells": [
  {
   "cell_type": "code",
   "execution_count": 594,
   "metadata": {},
   "outputs": [],
   "source": [
    "import os\n",
    "import shlex\n",
    "import subprocess\n",
    "\n",
    "N_RUNS = [550]"
   ]
  },
  {
   "cell_type": "code",
   "execution_count": 595,
   "metadata": {},
   "outputs": [
    {
     "name": "stdout",
     "output_type": "stream",
     "text": [
      "RUReader -i ../data/run550/ru_i100_0550_0000.caendat -o ../data/root/run550.root -d V1724 0\n"
     ]
    }
   ],
   "source": [
    "for N_RUN in N_RUNS:\n",
    "\n",
    "    # Input and output paths\n",
    "    INPUT_PATH = \"../data/run{}/\".format(N_RUN)\n",
    "    OUTPUT_PATH = \"../data/root/\"\n",
    "    \n",
    "    # Check if output path exists\n",
    "    if not os.path.exists(OUTPUT_PATH):\n",
    "        os.makedirs(OUTPUT_PATH)\n",
    "    \n",
    "    # Digitizers configuration ( BOARD_NAME: BOARD_INDEX   )\n",
    "    digitizers = { \"V1724\": 0 }\n",
    "\n",
    "    # List of files to be processed\n",
    "    in_files = [f for f in os.listdir(INPUT_PATH) if \"ru_\" in f]\n",
    "\n",
    "    # Create output files\n",
    "    if len(in_files) == 1: out_files = [\"run{}.root\".format(N_RUN)]\n",
    "    else: out_files = [\"run{}_{}.root\".format(N_RUN,i) for i in range( len(in_files) )]\n",
    "\n",
    "    # Create options flag\n",
    "    options = \"\"\n",
    "    for name in digitizers.keys(): options += \" -d \" + name + \" \" + str(digitizers[name])\n",
    "\n",
    "    # Converting the data\n",
    "    for input, output in zip(in_files, out_files):\n",
    "        cmd = \"RUReader -i \" + INPUT_PATH + input + \" -o \" + OUTPUT_PATH + output + options\n",
    "        print( cmd )\n",
    "        _ = subprocess.check_output(shlex.split(cmd))"
   ]
  },
  {
   "cell_type": "code",
   "execution_count": null,
   "metadata": {},
   "outputs": [],
   "source": []
  }
 ],
 "metadata": {
  "kernelspec": {
   "display_name": "Python 3 (ipykernel)",
   "language": "python",
   "name": "python3"
  },
  "language_info": {
   "codemirror_mode": {
    "name": "ipython",
    "version": 3
   },
   "file_extension": ".py",
   "mimetype": "text/x-python",
   "name": "python",
   "nbconvert_exporter": "python",
   "pygments_lexer": "ipython3",
   "version": "3.12.7"
  }
 },
 "nbformat": 4,
 "nbformat_minor": 4
}
