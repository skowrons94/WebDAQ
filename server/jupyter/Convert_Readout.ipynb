{
 "cells": [
  {
   "cell_type": "code",
   "execution_count": 1,
   "metadata": {},
   "outputs": [],
   "source": [
    "import os\n",
    "import shlex\n",
    "import subprocess\n",
    "\n",
    "N_RUN = 115"
   ]
  },
  {
   "cell_type": "code",
   "execution_count": 2,
   "metadata": {},
   "outputs": [],
   "source": [
    "# Input and output paths\n",
    "INPUT_PATH = \"../data/run{}/\".format(N_RUN)\n",
    "OUTPUT_PATH = \"../data/root/\"\n",
    "\n",
    "# Check if output path exists\n",
    "if not os.path.exists(OUTPUT_PATH):\n",
    "    os.makedirs(OUTPUT_PATH)\n",
    "\n",
    "# Digitizers configuration ( BOARD_NAME: BOARD_INDEX   )\n",
    "digitizers = { \"DT5781\": 0 }"
   ]
  },
  {
   "cell_type": "code",
   "execution_count": 3,
   "metadata": {},
   "outputs": [],
   "source": [
    "# List of files to be processed\n",
    "in_files = [f for f in os.listdir(INPUT_PATH) if \"ru_\" in f]\n",
    "\n",
    "# Create output files\n",
    "if len(in_files) == 1: out_files = [\"run{}_ru.root\".format(N_RUN)]\n",
    "else: out_files = [\"run{}_{}_ru.root\".format(N_RUN,i) for i in range( len(in_files) )]"
   ]
  },
  {
   "cell_type": "code",
   "execution_count": 4,
   "metadata": {},
   "outputs": [],
   "source": [
    "# Create options flag\n",
    "options = \"\"\n",
    "for name in digitizers.keys(): options += \" -d \" + name + \" \" + str(digitizers[name])"
   ]
  },
  {
   "cell_type": "code",
   "execution_count": 5,
   "metadata": {},
   "outputs": [
    {
     "name": "stdout",
     "output_type": "stream",
     "text": [
      "RUReader -i ../data/run115/ru_i0_0115_0000.caendat -o ../data/root/run115_ru.root -d DT5781 0\n"
     ]
    }
   ],
   "source": [
    "# Converting the data\n",
    "for input, output in zip(in_files, out_files):\n",
    "    cmd = \"RUReader -i \" + INPUT_PATH + input + \" -o \" + OUTPUT_PATH + output + options\n",
    "    print( cmd )\n",
    "    _ = subprocess.check_output(shlex.split(cmd))"
   ]
  }
 ],
 "metadata": {
  "kernelspec": {
   "display_name": "base",
   "language": "python",
   "name": "python3"
  },
  "language_info": {
   "codemirror_mode": {
    "name": "ipython",
    "version": 3
   },
   "file_extension": ".py",
   "mimetype": "text/x-python",
   "name": "python",
   "nbconvert_exporter": "python",
   "pygments_lexer": "ipython3",
   "version": "3.11.6"
  }
 },
 "nbformat": 4,
 "nbformat_minor": 2
}
